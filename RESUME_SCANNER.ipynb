{
  "nbformat": 4,
  "nbformat_minor": 0,
  "metadata": {
    "colab": {
      "name": "RESUME SCANNER",
      "provenance": [],
      "authorship_tag": "ABX9TyN1GSclpfMliyjG4mxLAM4b",
      "include_colab_link": true
    },
    "kernelspec": {
      "name": "python3",
      "display_name": "Python 3"
    },
    "language_info": {
      "name": "python"
    }
  },
  "cells": [
    {
      "cell_type": "markdown",
      "metadata": {
        "id": "view-in-github",
        "colab_type": "text"
      },
      "source": [
        "<a href=\"https://colab.research.google.com/github/SriDharshini16/Python/blob/main/RESUME_SCANNER.ipynb\" target=\"_parent\"><img src=\"https://colab.research.google.com/assets/colab-badge.svg\" alt=\"Open In Colab\"/></a>"
      ]
    },
    {
      "cell_type": "code",
      "execution_count": 18,
      "metadata": {
        "colab": {
          "base_uri": "https://localhost:8080/"
        },
        "id": "-J99Jy4A-r0s",
        "outputId": "24ab0b84-2c76-4c37-b6a7-49923c29f090"
      },
      "outputs": [
        {
          "output_type": "stream",
          "name": "stdout",
          "text": [
            "Requirement already satisfied: docx2txt in /usr/local/lib/python3.7/dist-packages (0.8)\n"
          ]
        }
      ],
      "source": [
        "!pip install docx2txt\n",
        "import docx2txt #convert doc file to txt file"
      ]
    },
    {
      "cell_type": "code",
      "source": [
        "job_description = docx2txt.process('/content/DESCRIPTION.docx')\n",
        "resume = docx2txt.process('/content/RESUME 1.docx')"
      ],
      "metadata": {
        "id": "OawsqWtT-tus"
      },
      "execution_count": 21,
      "outputs": []
    },
    {
      "cell_type": "code",
      "source": [
        "print(job_description)"
      ],
      "metadata": {
        "colab": {
          "base_uri": "https://localhost:8080/"
        },
        "id": "nP9rmx0W-52r",
        "outputId": "a0af27fb-0c00-46f7-bad4-ff674fd38598"
      },
      "execution_count": 22,
      "outputs": [
        {
          "output_type": "stream",
          "name": "stdout",
          "text": [
            "JOB DESCRIPTION\n",
            "\n",
            "\t\t\t\t\t\t\t\t\t\t\t\t\t\t\t\tJob brief\n",
            "\n",
            "\t\t\t\t\t\t\t\t\t\t\t\t\t\t\t\t\n",
            "\n",
            "\t\t\t\t\t\t\t\t\t\t\t\t\t\t\t\tWe are looking for a Senior Web Developer to build and maintain functional web pages and applications.\n",
            "\n",
            "\t\t\t\t\t\t\t\t\t\t\t\t\t\t\t\tSenior Web Developer responsibilities include leading a team of junior developers, refining website specifications and resolving technical issues. To be successful in this role, you should have extensive experience building web \n",
            "\n",
            "\t\t\t\t\t\t\t\t\t\t\t\t\t\t\t\tpages from scratch and in-depth knowledge of at least one of the following programming languages: JavaScript, Ruby or PHP.\n",
            "\n",
            "\t\t\t\t\t\t\t\t\t\t\t\t\t\t\t\tUltimately, you will ensure our web pages are up and running and cover both internal and customer needs.\n",
            "\n",
            "\t\t\t\t\t\t\t\t\t\t\t\t\t\t\t\tResponsibilities\n",
            "\n",
            "\t\t\t\t\t\t\t\t\t\t\t\t\t\t\t\tIdentify user and system requirements for new websites and applications\n",
            "\n",
            "\t\t\t\t\t\t\t\t\t\t\t\t\t\t\t\tPrioritize software development projects, set timelines and assign tasks to team members\n",
            "\n",
            "\t\t\t\t\t\t\t\t\t\t\t\t\t\t\t\tCreate wireframes to decide on layout\n",
            "\n",
            "\t\t\t\t\t\t\t\t\t\t\t\t\t\t\t\tWrite or review code for various applications\n",
            "\n",
            "Run functionality testings and debug code\n",
            "\n",
            "Oversee junior web developers and evaluate their performance\n",
            "\n",
            "Liaise with designers to decide on UI/UX elements (like graphics and navigation buttons)\n",
            "\n",
            "Ensure our software documentation is up-to-date\n",
            "\n",
            "Collaborate with mobile developers to build mobile-responsive websites\n",
            "\n",
            "Requirements\n",
            "\n",
            "Work experience as a Senior Web Developer\n",
            "\n",
            "Expertise in at least one programming language, preferably Javascript, Ruby or PHP\n",
            "\n",
            "Solid knowledge of HTML/CSS\n",
            "\n",
            "Experience with mockup and UI prototyping tools\n",
            "\n",
            "Understanding of security practices\n",
            "\n",
            "Familiarity with network diagnostics tools\n",
            "\n",
            "Team management skills\n",
            "\n",
            "BSc/MSc in Computer Science or relevant field\n"
          ]
        }
      ]
    },
    {
      "cell_type": "code",
      "source": [
        "print(resume)"
      ],
      "metadata": {
        "colab": {
          "base_uri": "https://localhost:8080/"
        },
        "id": "XdZop3wvMc41",
        "outputId": "a3c52b48-8304-4ce1-fff0-547bac3295ab"
      },
      "execution_count": null,
      "outputs": [
        {
          "output_type": "stream",
          "name": "stdout",
          "text": [
            "RESUME\n",
            "\n",
            "\n",
            "\n",
            " Profile Results-oriented Web Application Developer and Online Business Developer with considerable training and enterprise experience in Web site design and layout and in all stages of design, coding, and testing of Web applications, and in the formation, planning, and implementation of online business ventures. Objective To obtain a position as a web application developer in a fun, fast paced, cutting edge environment that promotes teamwork and integrity and that fosters personal and professional development. Web Development Summary \n",
            "\n",
            "• Over ten years of professional software and Web application development experience \n",
            "\n",
            "• Ruby, Ruby on Rails, object-oriented PHP, and Java, including and JSP and Servlets \n",
            "\n",
            "• MVC, design patterns, Object-oriented Analysis and Design (OOAD), Web 2.0, SaaS, and Git \n",
            "\n",
            "• HTML, XHTML, WML, and CSS \n",
            "\n",
            "• JavaScript and AJAX, including Prototype and script.aculo.us libraries \n",
            "\n",
            "• Web Services, SOAP, RESTful Services, Atom, and RSS \n",
            "\n",
            "• HTTP, TCP/IP, FTP, SMTP, and POP3 \n",
            "\n",
            "• SQL, XML, MySQL, Postgresql, and Microsoft SQL Server \n",
            "\n",
            "• Apache, Jakarta Tomcat, and WEBrick \n",
            "\n",
            "• Red Hat Enterprise Linux, Fedora, and Microsoft Server \n",
            "\n",
            "• Linux commands and tools, Perl, shell scripting with bash, and regular expressions \n",
            "\n",
            "• Proven Search Engine Optimization and Marketing (SEO/SEM) experience \n",
            "\n",
            "• Excellent written and verbal communication skills \n",
            "\n",
            "• Online business development and strategy \n",
            "\n",
            "• Adobe Photoshop and a solid understanding of good website design \n",
            "\n",
            "\n",
            "\n",
            "Education Marlboro College August 2002 Master of Science, Internet Engineering As a capstone project, built a self-service website for the historical society in Townshend, VT using Java, Postgresql, Jakarta Tomcat, and Red Hat Linux. College of Charleston June 1994 Bachelor of Arts, Music Theory and Composition Work History Web Application Developer www.rpwb.com Richardson, Patrick, Westbrook, & Brickman, LLC 9/2003 - 10/2008 \n",
            "\n",
            "Built main law firm website and many informational and case-specific websites \n",
            "\n",
            "Marketed websites through low-cost organic search engine optimization and link building, gaining first page ranking on Google for many highly-competitive, high-traffic, targeted keyword phrases \n",
            "\n",
            "Built internal corporate Intranet, enabling interdepartmental collaboration \n",
            "\n",
            "Was solely responsible for full life-cycle application development and maintenance \n",
            "\n",
            "Used Photoshop, XHTML, and CSS for all website design \n",
            "\n",
            "Used JavaScript and AJAX for all client-side scripting \n",
            "\n",
            "Used PHP, Perl, and Java connected to SQL Server and MySQL for all server-side programming \n",
            "\n",
            "Responsible for the administration of Web and FTP servers, including Apache on Red Hat Enterprise Linux and IIS on Windows Servers \n",
            "\n",
            "\n",
            "\n",
            "Work History (continued) \n",
            "\n",
            "Senior Web Developer www.motleyrice.com \n",
            "\n",
            "Motley Rice, LLC (formerly Ness Motley, P.A.) 4/2001 - 9/2003 \n",
            "\n",
            "Solely responsible for the development of Internet sites and Intranet/Extranet system. Duties included website design, programming, and optimization for search engine placement. Gained high ranking for many competitive keyword phrases, most notably a long-standing #2 ranking on Google for “mesothelioma”. \n",
            "\n",
            "Software Developer, Mead Westvaco 1/2001 - 4/2001 \n",
            "\n",
            "Web Developer, Dr. Todd Christensen (online pharmacy) 10/1999 - 5/2000 \n",
            "\n",
            "Software Developer, Blackbaud, Inc. 1/1999 - 10/1999 \n",
            "\n",
            "Songwriter/Saxophonist, Skwzbxx, LLC 8/1995 - 1/1999 \n",
            "\n",
            "Business Development \n",
            "\n",
            "Owner/Web Developer www.back2adam.com \n",
            "\n",
            "Back2Adam, Inc. 9/2008 - Present \n",
            "\n",
            "With an emphasis on family history and individuals in history, Back2Adam will be the largest and most complete history resource on the Internet. In addition to being community run, user built, free, fun, and useful, automating much of the genealogical research process, it will encourage collaboration between users, providing comprehensive tools to do so, and will be available globally in many languages. \n",
            "\n",
            "\n",
            "\n",
            "Owner/Web Developer \n",
            "\n",
            "Digital Charleston, LLC 8/2007 - Present \n",
            "\n",
            "Provides custom application development. \n",
            "\n",
            "Examples: www.wellspringcharleston.com, www.hendersonandassociates.net, www.majorandco.net, www.tuwbattleofthebands.com, www.ldsscripturemastery.net, www.publishyourkeyword.com \n",
            "\n",
            "\n",
            "\n",
            "Owner/Web Developer www.professionalagent.com \n",
            "\n",
            "Professional Agent, LLC 5/2005 - Present \n",
            "\n",
            "Provides self-service, template-driven Web sites to real estate agents. \n",
            "\n",
            "Oversee and implement company branding, including website design \n",
            "\n",
            "Developed business application including registration form with integrated merchant services; agent websites including contact forms and regional MLS integration; and a user-friendly content management system \n",
            "\n",
            "Provide website marketing for company and client websites \n",
            "\n",
            "Developed using PHP and MySQL on Linux \n",
            "\n",
            "\n",
            "\n",
            "Certifications Red Hat Certified Technician for Red Hat Enterprise Linux 5, 2008 Sun Certified Programmer for Java 2 Platform 1.4, 2004 Prosoft Training’s Certified Internet Webmaster – Application Developer, 2001 \n",
            "\n",
            "Memberships \n",
            "\n",
            "\n",
            "\n",
            "South Carolina Small Business Chamber of Commerce \n",
            "\n",
            "American Mensa \n",
            "\n",
            "Charleston Metro Chamber of Commerce \n",
            "\n",
            "Charleston Young Professionals\n"
          ]
        }
      ]
    },
    {
      "cell_type": "code",
      "source": [
        "content = [job_description, resume]"
      ],
      "metadata": {
        "id": "tJtswIznkli8"
      },
      "execution_count": null,
      "outputs": []
    },
    {
      "cell_type": "code",
      "source": [
        "from sklearn.feature_extraction.text import CountVectorizer\n",
        "cv = CountVectorizer()\n",
        "count_matrix = cv.fit_transform(content)"
      ],
      "metadata": {
        "id": "MoYy4F_0kpJR"
      },
      "execution_count": null,
      "outputs": []
    },
    {
      "cell_type": "code",
      "source": [
        "from sklearn.metrics.pairwise import cosine_similarity\n",
        "mat = cosine_similarity(count_matrix)\n",
        "print(mat)"
      ],
      "metadata": {
        "colab": {
          "base_uri": "https://localhost:8080/"
        },
        "id": "ZMzdPs0zksjP",
        "outputId": "01802de8-2349-4b77-f28a-57e63a2d975a"
      },
      "execution_count": null,
      "outputs": [
        {
          "output_type": "stream",
          "name": "stdout",
          "text": [
            "[[1.         0.65282365]\n",
            " [0.65282365 1.        ]]\n"
          ]
        }
      ]
    },
    {
      "cell_type": "code",
      "source": [
        "print('Resume Matches by: '+  str(mat[1][0]*100) + '%')"
      ],
      "metadata": {
        "colab": {
          "base_uri": "https://localhost:8080/"
        },
        "id": "D4ivO7CPkwT-",
        "outputId": "b715568f-e8f1-4d7a-8aaa-785a45ed63d2"
      },
      "execution_count": null,
      "outputs": [
        {
          "output_type": "stream",
          "name": "stdout",
          "text": [
            "Resume Matches by: 65.28236452527294%\n"
          ]
        }
      ]
    }
  ]
}